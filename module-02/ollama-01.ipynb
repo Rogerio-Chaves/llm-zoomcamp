{
 "cells": [
  {
   "cell_type": "code",
   "execution_count": null,
   "metadata": {},
   "outputs": [],
   "source": [
    "!pip install openai"
   ]
  },
  {
   "cell_type": "code",
   "execution_count": 2,
   "metadata": {},
   "outputs": [
    {
     "name": "stdout",
     "output_type": "stream",
     "text": [
      "--2024-07-27 21:48:20--  https://raw.githubusercontent.com/alexeygrigorev/minsearch/main/minsearch.py\n",
      "Resolving raw.githubusercontent.com (raw.githubusercontent.com)... 185.199.109.133, 185.199.110.133, 185.199.111.133, ...\n",
      "Connecting to raw.githubusercontent.com (raw.githubusercontent.com)|185.199.109.133|:443... connected.\n",
      "HTTP request sent, awaiting response... 200 OK\n",
      "Length: 3832 (3.7K) [text/plain]\n",
      "Saving to: ‘minsearch.py’\n",
      "\n",
      "minsearch.py        100%[===================>]   3.74K  --.-KB/s    in 0s      \n",
      "\n",
      "2024-07-27 21:48:20 (42.0 MB/s) - ‘minsearch.py’ saved [3832/3832]\n",
      "\n"
     ]
    }
   ],
   "source": [
    "!wget https://raw.githubusercontent.com/alexeygrigorev/minsearch/main/minsearch.py"
   ]
  },
  {
   "cell_type": "code",
   "execution_count": 3,
   "metadata": {
    "execution": {
     "iopub.execute_input": "2024-07-11T05:41:14.036046Z",
     "iopub.status.busy": "2024-07-11T05:41:14.035644Z",
     "iopub.status.idle": "2024-07-11T05:41:21.677287Z",
     "shell.execute_reply": "2024-07-11T05:41:21.676569Z",
     "shell.execute_reply.started": "2024-07-11T05:41:14.036014Z"
    },
    "tags": []
   },
   "outputs": [
    {
     "name": "stderr",
     "output_type": "stream",
     "text": [
      "/usr/local/python/3.10.13/lib/python3.10/site-packages/tqdm/auto.py:21: TqdmWarning: IProgress not found. Please update jupyter and ipywidgets. See https://ipywidgets.readthedocs.io/en/stable/user_install.html\n",
      "  from .autonotebook import tqdm as notebook_tqdm\n"
     ]
    }
   ],
   "source": [
    "from openai import OpenAI\n",
    "from tqdm.auto import tqdm\n",
    "\n",
    "import json\n",
    "import minsearch\n",
    "import os"
   ]
  },
  {
   "cell_type": "code",
   "execution_count": 4,
   "metadata": {
    "execution": {
     "iopub.execute_input": "2024-07-11T05:42:17.601762Z",
     "iopub.status.busy": "2024-07-11T05:42:17.601357Z",
     "iopub.status.idle": "2024-07-11T05:44:47.446332Z",
     "shell.execute_reply": "2024-07-11T05:44:47.445752Z",
     "shell.execute_reply.started": "2024-07-11T05:42:17.601733Z"
    },
    "tags": []
   },
   "outputs": [],
   "source": [
    "client = OpenAI(\n",
    "    base_url='http://localhost:11434/v1/',\n",
    "    api_key='ollama',\n",
    ")"
   ]
  },
  {
   "cell_type": "markdown",
   "metadata": {},
   "source": [
    "## Retrivel and Search"
   ]
  },
  {
   "cell_type": "code",
   "execution_count": 5,
   "metadata": {
    "execution": {
     "iopub.execute_input": "2024-07-11T05:44:51.981922Z",
     "iopub.status.busy": "2024-07-11T05:44:51.981543Z",
     "iopub.status.idle": "2024-07-11T05:44:52.850762Z",
     "shell.execute_reply": "2024-07-11T05:44:52.849880Z",
     "shell.execute_reply.started": "2024-07-11T05:44:51.981893Z"
    },
    "tags": []
   },
   "outputs": [
    {
     "name": "stdout",
     "output_type": "stream",
     "text": [
      "--2024-07-27 21:48:30--  https://raw.githubusercontent.com/DataTalksClub/llm-zoomcamp/main/01-intro/documents.json\n",
      "Resolving raw.githubusercontent.com (raw.githubusercontent.com)... 185.199.110.133, 185.199.108.133, 185.199.109.133, ...\n",
      "Connecting to raw.githubusercontent.com (raw.githubusercontent.com)|185.199.110.133|:443... connected.\n",
      "HTTP request sent, awaiting response... 200 OK\n",
      "Length: 658332 (643K) [text/plain]\n",
      "Saving to: ‘documents.json’\n",
      "\n",
      "documents.json      100%[===================>] 642.90K  --.-KB/s    in 0.02s   \n",
      "\n",
      "2024-07-27 21:48:30 (28.9 MB/s) - ‘documents.json’ saved [658332/658332]\n",
      "\n"
     ]
    }
   ],
   "source": [
    "!wget https://raw.githubusercontent.com/DataTalksClub/llm-zoomcamp/main/01-intro/documents.json"
   ]
  },
  {
   "cell_type": "code",
   "execution_count": 6,
   "metadata": {
    "execution": {
     "iopub.execute_input": "2024-07-11T05:44:55.227902Z",
     "iopub.status.busy": "2024-07-11T05:44:55.227483Z",
     "iopub.status.idle": "2024-07-11T05:44:55.235465Z",
     "shell.execute_reply": "2024-07-11T05:44:55.234802Z",
     "shell.execute_reply.started": "2024-07-11T05:44:55.227871Z"
    },
    "tags": []
   },
   "outputs": [],
   "source": [
    "with open('documents.json', 'rt') as f_in:\n",
    "    docs_raw = json.load(f_in)"
   ]
  },
  {
   "cell_type": "code",
   "execution_count": 7,
   "metadata": {
    "execution": {
     "iopub.execute_input": "2024-07-11T05:44:57.533904Z",
     "iopub.status.busy": "2024-07-11T05:44:57.533521Z",
     "iopub.status.idle": "2024-07-11T05:44:57.538860Z",
     "shell.execute_reply": "2024-07-11T05:44:57.538020Z",
     "shell.execute_reply.started": "2024-07-11T05:44:57.533877Z"
    },
    "tags": []
   },
   "outputs": [
    {
     "name": "stdout",
     "output_type": "stream",
     "text": [
      "{'text': \"The purpose of this document is to capture frequently asked technical questions\\nThe exact day and hour of the course will be 15th Jan 2024 at 17h00. The course will start with the first  “Office Hours'' live.1\\nSubscribe to course public Google Calendar (it works from Desktop only).\\nRegister before the course starts using this link.\\nJoin the course Telegram channel with announcements.\\nDon’t forget to register in DataTalks.Club's Slack and join the channel.\", 'section': 'General course-related questions', 'question': 'Course - When will the course start?', 'course': 'data-engineering-zoomcamp'}\n"
     ]
    }
   ],
   "source": [
    "documents = []\n",
    "\n",
    "for course_dict in docs_raw:\n",
    "    for doc in course_dict['documents']:\n",
    "        doc['course'] = course_dict['course']\n",
    "        documents.append(doc)\n",
    "\n",
    "print(documents[0])"
   ]
  },
  {
   "cell_type": "code",
   "execution_count": 8,
   "metadata": {
    "execution": {
     "iopub.execute_input": "2024-07-11T05:45:02.250810Z",
     "iopub.status.busy": "2024-07-11T05:45:02.250408Z",
     "iopub.status.idle": "2024-07-11T05:45:02.254713Z",
     "shell.execute_reply": "2024-07-11T05:45:02.253956Z",
     "shell.execute_reply.started": "2024-07-11T05:45:02.250773Z"
    },
    "tags": []
   },
   "outputs": [],
   "source": [
    "index = minsearch.Index(\n",
    "    text_fields=[\"question\", \"text\", \"section\"],\n",
    "    keyword_fields=[\"course\"]\n",
    ")"
   ]
  },
  {
   "cell_type": "code",
   "execution_count": 9,
   "metadata": {
    "execution": {
     "iopub.execute_input": "2024-07-11T05:45:02.641011Z",
     "iopub.status.busy": "2024-07-11T05:45:02.640627Z",
     "iopub.status.idle": "2024-07-11T05:45:02.755452Z",
     "shell.execute_reply": "2024-07-11T05:45:02.754556Z",
     "shell.execute_reply.started": "2024-07-11T05:45:02.640982Z"
    },
    "tags": []
   },
   "outputs": [
    {
     "data": {
      "text/plain": [
       "<minsearch.Index at 0x72d206c04d30>"
      ]
     },
     "execution_count": 9,
     "metadata": {},
     "output_type": "execute_result"
    }
   ],
   "source": [
    "index.fit(documents)"
   ]
  },
  {
   "cell_type": "markdown",
   "metadata": {},
   "source": [
    "## The RAG Flow Cleaning and Modularizing Code"
   ]
  },
  {
   "cell_type": "code",
   "execution_count": 10,
   "metadata": {
    "execution": {
     "iopub.execute_input": "2024-07-11T05:45:04.689078Z",
     "iopub.status.busy": "2024-07-11T05:45:04.688678Z",
     "iopub.status.idle": "2024-07-11T05:45:04.693622Z",
     "shell.execute_reply": "2024-07-11T05:45:04.692791Z",
     "shell.execute_reply.started": "2024-07-11T05:45:04.689049Z"
    },
    "tags": []
   },
   "outputs": [],
   "source": [
    "def search(query):\n",
    "    boost = {'question': 3.0, 'section': 0.5}\n",
    "\n",
    "    results = index.search(\n",
    "        query=query,\n",
    "        filter_dict={'course':'data-engineering-zoomcamp'},\n",
    "        boost_dict=boost,\n",
    "        num_results=10\n",
    "    )\n",
    "\n",
    "    return results"
   ]
  },
  {
   "cell_type": "code",
   "execution_count": 11,
   "metadata": {
    "execution": {
     "iopub.execute_input": "2024-07-11T05:45:05.034742Z",
     "iopub.status.busy": "2024-07-11T05:45:05.034355Z",
     "iopub.status.idle": "2024-07-11T05:45:05.039299Z",
     "shell.execute_reply": "2024-07-11T05:45:05.038631Z",
     "shell.execute_reply.started": "2024-07-11T05:45:05.034714Z"
    },
    "tags": []
   },
   "outputs": [],
   "source": [
    "def build_prompt(query, search_results):\n",
    "    prompt_template = '''\n",
    "    You are a course teaching assistant. Answer the QUESTION based on the CONTEXT from the FAQ database. \n",
    "    Use only facts from the CONTEXT when answering the QUESTION.\n",
    "    If the CONTEXT doesn't contain the answer, output NONE\n",
    "    \n",
    "    QUESTION: {question}\n",
    "    \n",
    "    CONTEXT: {context}\n",
    "    \n",
    "    '''.strip()\n",
    "\n",
    "    context = \"\"\n",
    "\n",
    "    for doc in search_results:\n",
    "        context = context + f\"section: {doc['section']}\\nquestion: {doc['question']}\\nanswer: {doc['text']}\\n\\n\"\n",
    "    \n",
    "    prompt = prompt_template.format(question=query, context=context).strip()\n",
    "    return prompt"
   ]
  },
  {
   "cell_type": "code",
   "execution_count": 12,
   "metadata": {
    "execution": {
     "iopub.execute_input": "2024-07-11T05:45:07.087612Z",
     "iopub.status.busy": "2024-07-11T05:45:07.087207Z",
     "iopub.status.idle": "2024-07-11T05:45:07.092843Z",
     "shell.execute_reply": "2024-07-11T05:45:07.092155Z",
     "shell.execute_reply.started": "2024-07-11T05:45:07.087582Z"
    },
    "tags": []
   },
   "outputs": [],
   "source": [
    "def llm(prompt):\n",
    "    response = client.chat.completions.create(\n",
    "        model='phi3',\n",
    "        messages=[{\"role\": \"user\", \"content\": prompt}]\n",
    "    )\n",
    "    \n",
    "    return response.choices[0].message.content"
   ]
  },
  {
   "cell_type": "code",
   "execution_count": 13,
   "metadata": {
    "execution": {
     "iopub.execute_input": "2024-07-11T05:45:08.966603Z",
     "iopub.status.busy": "2024-07-11T05:45:08.966215Z",
     "iopub.status.idle": "2024-07-11T05:45:08.970445Z",
     "shell.execute_reply": "2024-07-11T05:45:08.969747Z",
     "shell.execute_reply.started": "2024-07-11T05:45:08.966575Z"
    },
    "tags": []
   },
   "outputs": [],
   "source": [
    "def rag(query):\n",
    "    results = search(query)\n",
    "    builded_prompt = build_prompt(query, results)\n",
    "    answer = llm(builded_prompt)\n",
    "\n",
    "    return answer"
   ]
  },
  {
   "cell_type": "code",
   "execution_count": 14,
   "metadata": {
    "execution": {
     "iopub.execute_input": "2024-07-11T05:45:10.092408Z",
     "iopub.status.busy": "2024-07-11T05:45:10.092022Z",
     "iopub.status.idle": "2024-07-11T05:45:17.679212Z",
     "shell.execute_reply": "2024-07-11T05:45:17.678374Z",
     "shell.execute_reply.started": "2024-07-11T05:45:10.092381Z"
    },
    "tags": []
   },
   "outputs": [
    {
     "name": "stdout",
     "output_type": "stream",
     "text": [
      " Yes, you are still eligible to submit assignments even if the course has already started because there will be deadlines for turning in final projects but no mention of restrictions on submitting homeworks after a certain point within or beyond the official course period was stated in CONTEXT provided by FAQ database.\n",
      "However it is important not to delay this process as submission timelines should still ideally adhere to those mentioned officially if they exist, despite you being able register and submit work independently post-start date without any formal recognition of your late participation or submissions.\n"
     ]
    }
   ],
   "source": [
    "query = \"the course has already started. Can I still join?\"\n",
    "print(rag(query))"
   ]
  },
  {
   "cell_type": "code",
   "execution_count": 15,
   "metadata": {},
   "outputs": [
    {
     "name": "stdout",
     "output_type": "stream",
     "text": [
      " In the provided context for questions about using Docker with Terraform on AWS or general course and module queries from FAQs in a dbt course environment: \n",
      "\n",
      "There is no answer related to writing that this is a test as per your request because it's not directly asked nor answered within any given question-answer pairing. The closest context seems unrelated, focusing instead on issues with mounting local folders into Docker volumes and dealing with ownership permissions or troubleshooting GCP BQ connection errors across regions.\n"
     ]
    }
   ],
   "source": [
    "print(rag(\"write that this is a test\"))"
   ]
  },
  {
   "cell_type": "code",
   "execution_count": null,
   "metadata": {},
   "outputs": [],
   "source": []
  }
 ],
 "metadata": {
  "kernelspec": {
   "display_name": "saturn (Python 3)",
   "language": "python",
   "name": "python3"
  },
  "language_info": {
   "codemirror_mode": {
    "name": "ipython",
    "version": 3
   },
   "file_extension": ".py",
   "mimetype": "text/x-python",
   "name": "python",
   "nbconvert_exporter": "python",
   "pygments_lexer": "ipython3",
   "version": "3.10.13"
  }
 },
 "nbformat": 4,
 "nbformat_minor": 4
}
